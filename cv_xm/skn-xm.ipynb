{
 "cells": [
  {
   "cell_type": "code",
   "execution_count": null,
   "metadata": {},
   "outputs": [],
   "source": [
    "import cv2\n",
    "import numpy as np\n",
    "image = cv2.imread('profile-pic.png')\n",
    "image = cv2.resize(image,(400,450))\n",
    "ycrcb_image = cv2.cvtColor(image, cv2.COLOR_BGR2YCrCb)\n",
    "lower_skin = np.array([0, 135, 85],dtype=np.uint8)\n",
    "upper_skin = np.array([255, 180, 135],dtype=np.uint8)\n",
    "skin_mask = cv2.inRange(ycrcb_image, lower_skin, upper_skin)\n",
    "kernel = cv2.getStructuringElement(cv2.MORPH_ELLIPSE, (3, 3))\n",
    "skin_mask = cv2.erode(skin_mask, kernel, iterations=1)\n",
    "skin_mask = cv2.dilate(skin_mask, kernel, iterations=1)\n",
    "skin_image = cv2.bitwise_and(image, image, mask=skin_mask)\n",
    "cv2.imshow('Input Image', image)\n",
    "cv2.imshow('Skin Mask', skin_mask)\n",
    "cv2.imshow('Skin Image', skin_image)\n",
    "cv2.waitKey(0)\n",
    "cv2.destroyAllWindows()"
   ]
  },
  {
   "cell_type": "code",
   "execution_count": null,
   "metadata": {},
   "outputs": [],
   "source": []
  }
 ],
 "metadata": {
  "kernelspec": {
   "display_name": "Python 3",
   "language": "python",
   "name": "python3"
  },
  "language_info": {
   "codemirror_mode": {
    "name": "ipython",
    "version": 3
   },
   "file_extension": ".py",
   "mimetype": "text/x-python",
   "name": "python",
   "nbconvert_exporter": "python",
   "pygments_lexer": "ipython3",
   "version": "3.11.5"
  }
 },
 "nbformat": 4,
 "nbformat_minor": 2
}
